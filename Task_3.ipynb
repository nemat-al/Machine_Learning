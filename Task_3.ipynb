{
  "nbformat": 4,
  "nbformat_minor": 0,
  "metadata": {
    "colab": {
      "name": "Nemat_Allah_Aloush_J41332c_MLT_2022_Task_3.ipynb",
      "provenance": [],
      "authorship_tag": "ABX9TyO5mw9CEyjQhulHoodnE//+",
      "include_colab_link": true
    },
    "kernelspec": {
      "name": "python3",
      "display_name": "Python 3"
    },
    "language_info": {
      "name": "python"
    }
  },
  "cells": [
    {
      "cell_type": "markdown",
      "metadata": {
        "id": "view-in-github",
        "colab_type": "text"
      },
      "source": [
        "<a href=\"https://colab.research.google.com/github/Nemat-Allah-Aloush/Machine_Learning_Techinques/blob/main/Task_3.ipynb\" target=\"_parent\"><img src=\"https://colab.research.google.com/assets/colab-badge.svg\" alt=\"Open In Colab\"/></a>"
      ]
    },
    {
      "cell_type": "markdown",
      "source": [
        "Nemat_Allah_Aloush_J41332c_MLT_2022_Task_4\n",
        "\n",
        "* Name: Nemat Allah Aloush\n",
        "* ISU group: J41332c\n",
        "* ISU number: 336092"
      ],
      "metadata": {
        "id": "NAoSXfydR0ym"
      }
    },
    {
      "cell_type": "markdown",
      "source": [
        "### Importing Packages"
      ],
      "metadata": {
        "id": "JdXmlQdkVxwr"
      }
    },
    {
      "cell_type": "code",
      "execution_count": 1,
      "metadata": {
        "id": "xhyB7REIRzin"
      },
      "outputs": [],
      "source": [
        "# data manipulation\n",
        "import pandas as pd\n",
        "import numpy as np\n",
        "# data visualization\n",
        "import matplotlib.pyplot as plt\n",
        "import seaborn as sns\n",
        "# data split\n",
        "from sklearn.model_selection import train_test_split"
      ]
    },
    {
      "cell_type": "markdown",
      "source": [
        "### Reading and splitting Dataset"
      ],
      "metadata": {
        "id": "ACPY0J0qW8EU"
      }
    },
    {
      "cell_type": "code",
      "source": [
        "# Mounting to google drive\n",
        "from google.colab import drive\n",
        "drive.mount('/content/drive/')\n",
        "# Reading the dataset\n",
        "df = pd.read_csv(\"/content/drive/My Drive/Machine Learning Techniques 2022/bioresponse.csv\")\n",
        "df.head()"
      ],
      "metadata": {
        "colab": {
          "base_uri": "https://localhost:8080/",
          "height": 317
        },
        "id": "fbbNVz9GR5e0",
        "outputId": "c4dfcb13-d1ce-463a-d921-7e0701dcace2"
      },
      "execution_count": 2,
      "outputs": [
        {
          "output_type": "stream",
          "name": "stdout",
          "text": [
            "Mounted at /content/drive/\n"
          ]
        },
        {
          "output_type": "execute_result",
          "data": {
            "text/html": [
              "\n",
              "  <div id=\"df-ef201d1a-ec40-46ff-be36-e77ee69ddb9d\">\n",
              "    <div class=\"colab-df-container\">\n",
              "      <div>\n",
              "<style scoped>\n",
              "    .dataframe tbody tr th:only-of-type {\n",
              "        vertical-align: middle;\n",
              "    }\n",
              "\n",
              "    .dataframe tbody tr th {\n",
              "        vertical-align: top;\n",
              "    }\n",
              "\n",
              "    .dataframe thead th {\n",
              "        text-align: right;\n",
              "    }\n",
              "</style>\n",
              "<table border=\"1\" class=\"dataframe\">\n",
              "  <thead>\n",
              "    <tr style=\"text-align: right;\">\n",
              "      <th></th>\n",
              "      <th>Activity</th>\n",
              "      <th>D1</th>\n",
              "      <th>D2</th>\n",
              "      <th>D3</th>\n",
              "      <th>D4</th>\n",
              "      <th>D5</th>\n",
              "      <th>D6</th>\n",
              "      <th>D7</th>\n",
              "      <th>D8</th>\n",
              "      <th>D9</th>\n",
              "      <th>D10</th>\n",
              "      <th>D11</th>\n",
              "      <th>D12</th>\n",
              "      <th>D13</th>\n",
              "      <th>D14</th>\n",
              "      <th>D15</th>\n",
              "      <th>D16</th>\n",
              "      <th>D17</th>\n",
              "      <th>D18</th>\n",
              "      <th>D19</th>\n",
              "      <th>D20</th>\n",
              "      <th>D21</th>\n",
              "      <th>D22</th>\n",
              "      <th>D23</th>\n",
              "      <th>D24</th>\n",
              "      <th>D25</th>\n",
              "      <th>D26</th>\n",
              "      <th>D27</th>\n",
              "      <th>D28</th>\n",
              "      <th>D29</th>\n",
              "      <th>D30</th>\n",
              "      <th>D31</th>\n",
              "      <th>D32</th>\n",
              "      <th>D33</th>\n",
              "      <th>D34</th>\n",
              "      <th>D35</th>\n",
              "      <th>D36</th>\n",
              "      <th>D37</th>\n",
              "      <th>D38</th>\n",
              "      <th>D39</th>\n",
              "      <th>...</th>\n",
              "      <th>D1737</th>\n",
              "      <th>D1738</th>\n",
              "      <th>D1739</th>\n",
              "      <th>D1740</th>\n",
              "      <th>D1741</th>\n",
              "      <th>D1742</th>\n",
              "      <th>D1743</th>\n",
              "      <th>D1744</th>\n",
              "      <th>D1745</th>\n",
              "      <th>D1746</th>\n",
              "      <th>D1747</th>\n",
              "      <th>D1748</th>\n",
              "      <th>D1749</th>\n",
              "      <th>D1750</th>\n",
              "      <th>D1751</th>\n",
              "      <th>D1752</th>\n",
              "      <th>D1753</th>\n",
              "      <th>D1754</th>\n",
              "      <th>D1755</th>\n",
              "      <th>D1756</th>\n",
              "      <th>D1757</th>\n",
              "      <th>D1758</th>\n",
              "      <th>D1759</th>\n",
              "      <th>D1760</th>\n",
              "      <th>D1761</th>\n",
              "      <th>D1762</th>\n",
              "      <th>D1763</th>\n",
              "      <th>D1764</th>\n",
              "      <th>D1765</th>\n",
              "      <th>D1766</th>\n",
              "      <th>D1767</th>\n",
              "      <th>D1768</th>\n",
              "      <th>D1769</th>\n",
              "      <th>D1770</th>\n",
              "      <th>D1771</th>\n",
              "      <th>D1772</th>\n",
              "      <th>D1773</th>\n",
              "      <th>D1774</th>\n",
              "      <th>D1775</th>\n",
              "      <th>D1776</th>\n",
              "    </tr>\n",
              "  </thead>\n",
              "  <tbody>\n",
              "    <tr>\n",
              "      <th>0</th>\n",
              "      <td>1</td>\n",
              "      <td>0.000000</td>\n",
              "      <td>0.497009</td>\n",
              "      <td>0.10</td>\n",
              "      <td>0.0</td>\n",
              "      <td>0.132956</td>\n",
              "      <td>0.678031</td>\n",
              "      <td>0.273166</td>\n",
              "      <td>0.585445</td>\n",
              "      <td>0.743663</td>\n",
              "      <td>0.243144</td>\n",
              "      <td>0.187856</td>\n",
              "      <td>0.0000</td>\n",
              "      <td>0.000000</td>\n",
              "      <td>0.069000</td>\n",
              "      <td>0.362012</td>\n",
              "      <td>0.301773</td>\n",
              "      <td>0.597930</td>\n",
              "      <td>0.190813</td>\n",
              "      <td>0.107219</td>\n",
              "      <td>0.070500</td>\n",
              "      <td>0.00717</td>\n",
              "      <td>0.137931</td>\n",
              "      <td>1</td>\n",
              "      <td>0.00</td>\n",
              "      <td>0.496683</td>\n",
              "      <td>0.753131</td>\n",
              "      <td>1</td>\n",
              "      <td>1</td>\n",
              "      <td>0.000000</td>\n",
              "      <td>0.262919</td>\n",
              "      <td>0.077200</td>\n",
              "      <td>0.082700</td>\n",
              "      <td>0.200590</td>\n",
              "      <td>0.00000</td>\n",
              "      <td>0.000000</td>\n",
              "      <td>0.0</td>\n",
              "      <td>0.0</td>\n",
              "      <td>0.162383</td>\n",
              "      <td>0.150153</td>\n",
              "      <td>...</td>\n",
              "      <td>0</td>\n",
              "      <td>0</td>\n",
              "      <td>0</td>\n",
              "      <td>0</td>\n",
              "      <td>0</td>\n",
              "      <td>0</td>\n",
              "      <td>0</td>\n",
              "      <td>0</td>\n",
              "      <td>0</td>\n",
              "      <td>0</td>\n",
              "      <td>0</td>\n",
              "      <td>0</td>\n",
              "      <td>0</td>\n",
              "      <td>0</td>\n",
              "      <td>0</td>\n",
              "      <td>0</td>\n",
              "      <td>0</td>\n",
              "      <td>0</td>\n",
              "      <td>0</td>\n",
              "      <td>0</td>\n",
              "      <td>0</td>\n",
              "      <td>0</td>\n",
              "      <td>0</td>\n",
              "      <td>0</td>\n",
              "      <td>0</td>\n",
              "      <td>0</td>\n",
              "      <td>0</td>\n",
              "      <td>0</td>\n",
              "      <td>0</td>\n",
              "      <td>0</td>\n",
              "      <td>0</td>\n",
              "      <td>0</td>\n",
              "      <td>0</td>\n",
              "      <td>0</td>\n",
              "      <td>0</td>\n",
              "      <td>0</td>\n",
              "      <td>0</td>\n",
              "      <td>0</td>\n",
              "      <td>0</td>\n",
              "      <td>0</td>\n",
              "    </tr>\n",
              "    <tr>\n",
              "      <th>1</th>\n",
              "      <td>1</td>\n",
              "      <td>0.366667</td>\n",
              "      <td>0.606291</td>\n",
              "      <td>0.05</td>\n",
              "      <td>0.0</td>\n",
              "      <td>0.111209</td>\n",
              "      <td>0.803455</td>\n",
              "      <td>0.106105</td>\n",
              "      <td>0.411754</td>\n",
              "      <td>0.836582</td>\n",
              "      <td>0.106480</td>\n",
              "      <td>0.101382</td>\n",
              "      <td>0.1875</td>\n",
              "      <td>0.193548</td>\n",
              "      <td>0.131001</td>\n",
              "      <td>0.350206</td>\n",
              "      <td>0.187419</td>\n",
              "      <td>0.762669</td>\n",
              "      <td>0.180473</td>\n",
              "      <td>0.329962</td>\n",
              "      <td>0.107681</td>\n",
              "      <td>0.01950</td>\n",
              "      <td>0.206897</td>\n",
              "      <td>0</td>\n",
              "      <td>0.75</td>\n",
              "      <td>0.449869</td>\n",
              "      <td>0.720484</td>\n",
              "      <td>0</td>\n",
              "      <td>0</td>\n",
              "      <td>0.666667</td>\n",
              "      <td>0.099400</td>\n",
              "      <td>0.289240</td>\n",
              "      <td>0.216710</td>\n",
              "      <td>0.100295</td>\n",
              "      <td>0.16958</td>\n",
              "      <td>0.235294</td>\n",
              "      <td>0.0</td>\n",
              "      <td>0.0</td>\n",
              "      <td>0.119104</td>\n",
              "      <td>0.075100</td>\n",
              "      <td>...</td>\n",
              "      <td>0</td>\n",
              "      <td>1</td>\n",
              "      <td>1</td>\n",
              "      <td>0</td>\n",
              "      <td>0</td>\n",
              "      <td>0</td>\n",
              "      <td>1</td>\n",
              "      <td>1</td>\n",
              "      <td>0</td>\n",
              "      <td>1</td>\n",
              "      <td>0</td>\n",
              "      <td>0</td>\n",
              "      <td>1</td>\n",
              "      <td>0</td>\n",
              "      <td>1</td>\n",
              "      <td>1</td>\n",
              "      <td>1</td>\n",
              "      <td>0</td>\n",
              "      <td>0</td>\n",
              "      <td>0</td>\n",
              "      <td>1</td>\n",
              "      <td>0</td>\n",
              "      <td>0</td>\n",
              "      <td>0</td>\n",
              "      <td>1</td>\n",
              "      <td>0</td>\n",
              "      <td>1</td>\n",
              "      <td>1</td>\n",
              "      <td>0</td>\n",
              "      <td>0</td>\n",
              "      <td>1</td>\n",
              "      <td>1</td>\n",
              "      <td>1</td>\n",
              "      <td>1</td>\n",
              "      <td>0</td>\n",
              "      <td>1</td>\n",
              "      <td>0</td>\n",
              "      <td>0</td>\n",
              "      <td>1</td>\n",
              "      <td>0</td>\n",
              "    </tr>\n",
              "    <tr>\n",
              "      <th>2</th>\n",
              "      <td>1</td>\n",
              "      <td>0.033300</td>\n",
              "      <td>0.480124</td>\n",
              "      <td>0.00</td>\n",
              "      <td>0.0</td>\n",
              "      <td>0.209791</td>\n",
              "      <td>0.610350</td>\n",
              "      <td>0.356453</td>\n",
              "      <td>0.517720</td>\n",
              "      <td>0.679051</td>\n",
              "      <td>0.352308</td>\n",
              "      <td>0.193548</td>\n",
              "      <td>0.1250</td>\n",
              "      <td>0.000000</td>\n",
              "      <td>0.068900</td>\n",
              "      <td>0.574628</td>\n",
              "      <td>0.283327</td>\n",
              "      <td>0.510633</td>\n",
              "      <td>0.184480</td>\n",
              "      <td>0.073300</td>\n",
              "      <td>0.061600</td>\n",
              "      <td>0.00566</td>\n",
              "      <td>0.000000</td>\n",
              "      <td>1</td>\n",
              "      <td>0.00</td>\n",
              "      <td>0.486610</td>\n",
              "      <td>0.803577</td>\n",
              "      <td>0</td>\n",
              "      <td>1</td>\n",
              "      <td>0.000000</td>\n",
              "      <td>0.428659</td>\n",
              "      <td>0.032400</td>\n",
              "      <td>0.072400</td>\n",
              "      <td>0.000000</td>\n",
              "      <td>0.03930</td>\n",
              "      <td>0.000000</td>\n",
              "      <td>0.0</td>\n",
              "      <td>0.0</td>\n",
              "      <td>0.076100</td>\n",
              "      <td>0.225229</td>\n",
              "      <td>...</td>\n",
              "      <td>0</td>\n",
              "      <td>0</td>\n",
              "      <td>0</td>\n",
              "      <td>0</td>\n",
              "      <td>0</td>\n",
              "      <td>0</td>\n",
              "      <td>0</td>\n",
              "      <td>0</td>\n",
              "      <td>0</td>\n",
              "      <td>0</td>\n",
              "      <td>0</td>\n",
              "      <td>0</td>\n",
              "      <td>0</td>\n",
              "      <td>0</td>\n",
              "      <td>0</td>\n",
              "      <td>0</td>\n",
              "      <td>0</td>\n",
              "      <td>0</td>\n",
              "      <td>0</td>\n",
              "      <td>0</td>\n",
              "      <td>0</td>\n",
              "      <td>0</td>\n",
              "      <td>0</td>\n",
              "      <td>0</td>\n",
              "      <td>0</td>\n",
              "      <td>0</td>\n",
              "      <td>0</td>\n",
              "      <td>0</td>\n",
              "      <td>0</td>\n",
              "      <td>0</td>\n",
              "      <td>0</td>\n",
              "      <td>0</td>\n",
              "      <td>0</td>\n",
              "      <td>0</td>\n",
              "      <td>0</td>\n",
              "      <td>0</td>\n",
              "      <td>0</td>\n",
              "      <td>0</td>\n",
              "      <td>0</td>\n",
              "      <td>0</td>\n",
              "    </tr>\n",
              "    <tr>\n",
              "      <th>3</th>\n",
              "      <td>1</td>\n",
              "      <td>0.000000</td>\n",
              "      <td>0.538825</td>\n",
              "      <td>0.00</td>\n",
              "      <td>0.5</td>\n",
              "      <td>0.196344</td>\n",
              "      <td>0.724230</td>\n",
              "      <td>0.235606</td>\n",
              "      <td>0.288764</td>\n",
              "      <td>0.805110</td>\n",
              "      <td>0.208989</td>\n",
              "      <td>0.000000</td>\n",
              "      <td>0.0000</td>\n",
              "      <td>0.000000</td>\n",
              "      <td>0.145947</td>\n",
              "      <td>0.584688</td>\n",
              "      <td>0.325247</td>\n",
              "      <td>0.496745</td>\n",
              "      <td>0.242288</td>\n",
              "      <td>0.087700</td>\n",
              "      <td>0.075300</td>\n",
              "      <td>0.01680</td>\n",
              "      <td>0.000000</td>\n",
              "      <td>1</td>\n",
              "      <td>0.00</td>\n",
              "      <td>0.459122</td>\n",
              "      <td>0.829482</td>\n",
              "      <td>0</td>\n",
              "      <td>1</td>\n",
              "      <td>0.000000</td>\n",
              "      <td>0.435410</td>\n",
              "      <td>0.118562</td>\n",
              "      <td>0.000000</td>\n",
              "      <td>0.000000</td>\n",
              "      <td>0.00000</td>\n",
              "      <td>0.000000</td>\n",
              "      <td>0.0</td>\n",
              "      <td>0.0</td>\n",
              "      <td>0.068900</td>\n",
              "      <td>0.000000</td>\n",
              "      <td>...</td>\n",
              "      <td>0</td>\n",
              "      <td>0</td>\n",
              "      <td>0</td>\n",
              "      <td>0</td>\n",
              "      <td>0</td>\n",
              "      <td>0</td>\n",
              "      <td>0</td>\n",
              "      <td>0</td>\n",
              "      <td>0</td>\n",
              "      <td>0</td>\n",
              "      <td>0</td>\n",
              "      <td>0</td>\n",
              "      <td>0</td>\n",
              "      <td>0</td>\n",
              "      <td>0</td>\n",
              "      <td>0</td>\n",
              "      <td>0</td>\n",
              "      <td>0</td>\n",
              "      <td>0</td>\n",
              "      <td>0</td>\n",
              "      <td>0</td>\n",
              "      <td>0</td>\n",
              "      <td>0</td>\n",
              "      <td>0</td>\n",
              "      <td>0</td>\n",
              "      <td>0</td>\n",
              "      <td>0</td>\n",
              "      <td>0</td>\n",
              "      <td>0</td>\n",
              "      <td>0</td>\n",
              "      <td>0</td>\n",
              "      <td>0</td>\n",
              "      <td>0</td>\n",
              "      <td>0</td>\n",
              "      <td>0</td>\n",
              "      <td>0</td>\n",
              "      <td>0</td>\n",
              "      <td>0</td>\n",
              "      <td>0</td>\n",
              "      <td>0</td>\n",
              "    </tr>\n",
              "    <tr>\n",
              "      <th>4</th>\n",
              "      <td>0</td>\n",
              "      <td>0.100000</td>\n",
              "      <td>0.517794</td>\n",
              "      <td>0.00</td>\n",
              "      <td>0.0</td>\n",
              "      <td>0.494734</td>\n",
              "      <td>0.781422</td>\n",
              "      <td>0.154361</td>\n",
              "      <td>0.303809</td>\n",
              "      <td>0.812646</td>\n",
              "      <td>0.125177</td>\n",
              "      <td>0.532258</td>\n",
              "      <td>0.0000</td>\n",
              "      <td>0.000000</td>\n",
              "      <td>0.094900</td>\n",
              "      <td>0.540323</td>\n",
              "      <td>0.116775</td>\n",
              "      <td>0.552982</td>\n",
              "      <td>0.167897</td>\n",
              "      <td>0.116140</td>\n",
              "      <td>0.054200</td>\n",
              "      <td>0.01350</td>\n",
              "      <td>0.103448</td>\n",
              "      <td>1</td>\n",
              "      <td>0.00</td>\n",
              "      <td>0.381883</td>\n",
              "      <td>0.913374</td>\n",
              "      <td>0</td>\n",
              "      <td>1</td>\n",
              "      <td>0.000000</td>\n",
              "      <td>0.305333</td>\n",
              "      <td>0.054100</td>\n",
              "      <td>0.170822</td>\n",
              "      <td>0.000000</td>\n",
              "      <td>0.00000</td>\n",
              "      <td>0.176471</td>\n",
              "      <td>0.0</td>\n",
              "      <td>0.0</td>\n",
              "      <td>0.019900</td>\n",
              "      <td>0.057400</td>\n",
              "      <td>...</td>\n",
              "      <td>0</td>\n",
              "      <td>0</td>\n",
              "      <td>0</td>\n",
              "      <td>0</td>\n",
              "      <td>0</td>\n",
              "      <td>0</td>\n",
              "      <td>0</td>\n",
              "      <td>0</td>\n",
              "      <td>0</td>\n",
              "      <td>0</td>\n",
              "      <td>0</td>\n",
              "      <td>0</td>\n",
              "      <td>0</td>\n",
              "      <td>0</td>\n",
              "      <td>0</td>\n",
              "      <td>0</td>\n",
              "      <td>0</td>\n",
              "      <td>0</td>\n",
              "      <td>0</td>\n",
              "      <td>0</td>\n",
              "      <td>0</td>\n",
              "      <td>0</td>\n",
              "      <td>0</td>\n",
              "      <td>0</td>\n",
              "      <td>0</td>\n",
              "      <td>0</td>\n",
              "      <td>0</td>\n",
              "      <td>0</td>\n",
              "      <td>0</td>\n",
              "      <td>0</td>\n",
              "      <td>0</td>\n",
              "      <td>0</td>\n",
              "      <td>0</td>\n",
              "      <td>0</td>\n",
              "      <td>0</td>\n",
              "      <td>0</td>\n",
              "      <td>0</td>\n",
              "      <td>0</td>\n",
              "      <td>0</td>\n",
              "      <td>0</td>\n",
              "    </tr>\n",
              "  </tbody>\n",
              "</table>\n",
              "<p>5 rows × 1777 columns</p>\n",
              "</div>\n",
              "      <button class=\"colab-df-convert\" onclick=\"convertToInteractive('df-ef201d1a-ec40-46ff-be36-e77ee69ddb9d')\"\n",
              "              title=\"Convert this dataframe to an interactive table.\"\n",
              "              style=\"display:none;\">\n",
              "        \n",
              "  <svg xmlns=\"http://www.w3.org/2000/svg\" height=\"24px\"viewBox=\"0 0 24 24\"\n",
              "       width=\"24px\">\n",
              "    <path d=\"M0 0h24v24H0V0z\" fill=\"none\"/>\n",
              "    <path d=\"M18.56 5.44l.94 2.06.94-2.06 2.06-.94-2.06-.94-.94-2.06-.94 2.06-2.06.94zm-11 1L8.5 8.5l.94-2.06 2.06-.94-2.06-.94L8.5 2.5l-.94 2.06-2.06.94zm10 10l.94 2.06.94-2.06 2.06-.94-2.06-.94-.94-2.06-.94 2.06-2.06.94z\"/><path d=\"M17.41 7.96l-1.37-1.37c-.4-.4-.92-.59-1.43-.59-.52 0-1.04.2-1.43.59L10.3 9.45l-7.72 7.72c-.78.78-.78 2.05 0 2.83L4 21.41c.39.39.9.59 1.41.59.51 0 1.02-.2 1.41-.59l7.78-7.78 2.81-2.81c.8-.78.8-2.07 0-2.86zM5.41 20L4 18.59l7.72-7.72 1.47 1.35L5.41 20z\"/>\n",
              "  </svg>\n",
              "      </button>\n",
              "      \n",
              "  <style>\n",
              "    .colab-df-container {\n",
              "      display:flex;\n",
              "      flex-wrap:wrap;\n",
              "      gap: 12px;\n",
              "    }\n",
              "\n",
              "    .colab-df-convert {\n",
              "      background-color: #E8F0FE;\n",
              "      border: none;\n",
              "      border-radius: 50%;\n",
              "      cursor: pointer;\n",
              "      display: none;\n",
              "      fill: #1967D2;\n",
              "      height: 32px;\n",
              "      padding: 0 0 0 0;\n",
              "      width: 32px;\n",
              "    }\n",
              "\n",
              "    .colab-df-convert:hover {\n",
              "      background-color: #E2EBFA;\n",
              "      box-shadow: 0px 1px 2px rgba(60, 64, 67, 0.3), 0px 1px 3px 1px rgba(60, 64, 67, 0.15);\n",
              "      fill: #174EA6;\n",
              "    }\n",
              "\n",
              "    [theme=dark] .colab-df-convert {\n",
              "      background-color: #3B4455;\n",
              "      fill: #D2E3FC;\n",
              "    }\n",
              "\n",
              "    [theme=dark] .colab-df-convert:hover {\n",
              "      background-color: #434B5C;\n",
              "      box-shadow: 0px 1px 3px 1px rgba(0, 0, 0, 0.15);\n",
              "      filter: drop-shadow(0px 1px 2px rgba(0, 0, 0, 0.3));\n",
              "      fill: #FFFFFF;\n",
              "    }\n",
              "  </style>\n",
              "\n",
              "      <script>\n",
              "        const buttonEl =\n",
              "          document.querySelector('#df-ef201d1a-ec40-46ff-be36-e77ee69ddb9d button.colab-df-convert');\n",
              "        buttonEl.style.display =\n",
              "          google.colab.kernel.accessAllowed ? 'block' : 'none';\n",
              "\n",
              "        async function convertToInteractive(key) {\n",
              "          const element = document.querySelector('#df-ef201d1a-ec40-46ff-be36-e77ee69ddb9d');\n",
              "          const dataTable =\n",
              "            await google.colab.kernel.invokeFunction('convertToInteractive',\n",
              "                                                     [key], {});\n",
              "          if (!dataTable) return;\n",
              "\n",
              "          const docLinkHtml = 'Like what you see? Visit the ' +\n",
              "            '<a target=\"_blank\" href=https://colab.research.google.com/notebooks/data_table.ipynb>data table notebook</a>'\n",
              "            + ' to learn more about interactive tables.';\n",
              "          element.innerHTML = '';\n",
              "          dataTable['output_type'] = 'display_data';\n",
              "          await google.colab.output.renderOutput(dataTable, element);\n",
              "          const docLink = document.createElement('div');\n",
              "          docLink.innerHTML = docLinkHtml;\n",
              "          element.appendChild(docLink);\n",
              "        }\n",
              "      </script>\n",
              "    </div>\n",
              "  </div>\n",
              "  "
            ],
            "text/plain": [
              "   Activity        D1        D2    D3   D4  ...  D1772  D1773  D1774  D1775  D1776\n",
              "0         1  0.000000  0.497009  0.10  0.0  ...      0      0      0      0      0\n",
              "1         1  0.366667  0.606291  0.05  0.0  ...      1      0      0      1      0\n",
              "2         1  0.033300  0.480124  0.00  0.0  ...      0      0      0      0      0\n",
              "3         1  0.000000  0.538825  0.00  0.5  ...      0      0      0      0      0\n",
              "4         0  0.100000  0.517794  0.00  0.0  ...      0      0      0      0      0\n",
              "\n",
              "[5 rows x 1777 columns]"
            ]
          },
          "metadata": {},
          "execution_count": 2
        }
      ]
    },
    {
      "cell_type": "code",
      "source": [
        "# Choosing the target feature\n",
        "X = df.drop('Activity', axis=1).to_numpy()\n",
        "# features are all the columns except the target one.\n",
        "y = df[['Activity']].to_numpy()\n",
        "# Splitting the dataset\n",
        "X_train, X_test, y_train, y_test = train_test_split(df,y,test_size=0.25, random_state=42)"
      ],
      "metadata": {
        "id": "jZ8ITWgsR7ea"
      },
      "execution_count": 3,
      "outputs": []
    },
    {
      "cell_type": "code",
      "source": [
        "X_train.shape, X_test.shape, y_train.shape, y_test.shape"
      ],
      "metadata": {
        "colab": {
          "base_uri": "https://localhost:8080/"
        },
        "id": "hoVAcX-tR9j5",
        "outputId": "94e23d34-65be-4fb4-be74-f7d248bda3ad"
      },
      "execution_count": 4,
      "outputs": [
        {
          "output_type": "execute_result",
          "data": {
            "text/plain": [
              "((2813, 1777), (938, 1777), (2813, 1), (938, 1))"
            ]
          },
          "metadata": {},
          "execution_count": 4
        }
      ]
    },
    {
      "cell_type": "code",
      "source": [
        "X_train = X_train.T\n",
        "X_test = X_test.T\n",
        "y_train = y_train.T\n",
        "y_test = y_test.T"
      ],
      "metadata": {
        "id": "xJNGs1JHR-Yb"
      },
      "execution_count": 5,
      "outputs": []
    },
    {
      "cell_type": "code",
      "source": [
        "X_train.shape, X_test.shape, y_train.shape, y_test.shape"
      ],
      "metadata": {
        "colab": {
          "base_uri": "https://localhost:8080/"
        },
        "id": "d-5HHbSPSBGw",
        "outputId": "2d7a4100-5271-478d-e5d5-0314f0b0a61e"
      },
      "execution_count": 6,
      "outputs": [
        {
          "output_type": "execute_result",
          "data": {
            "text/plain": [
              "((1777, 2813), (1777, 938), (1, 2813), (1, 938))"
            ]
          },
          "metadata": {},
          "execution_count": 6
        }
      ]
    },
    {
      "cell_type": "markdown",
      "source": [
        "### Neural Network"
      ],
      "metadata": {
        "id": "obM3e4DTSO2w"
      }
    },
    {
      "cell_type": "markdown",
      "source": [
        "#### Sigmoid"
      ],
      "metadata": {
        "id": "sPtV5gFTYApE"
      }
    },
    {
      "cell_type": "code",
      "source": [
        "# sigmoid\n",
        "\n",
        "def sigmoid(z):\n",
        "    \"\"\"\n",
        "    Compute the sigmoid of z\n",
        "    Arguments:\n",
        "    z -- A scalar or numpy array of any size.\n",
        "    Return:\n",
        "    s -- sigmoid(z)\n",
        "    \"\"\"\n",
        "    s = 1./(1.+np.exp(-z))\n",
        "    \n",
        "    return s"
      ],
      "metadata": {
        "id": "-fUvp97ZSDTm"
      },
      "execution_count": 7,
      "outputs": []
    },
    {
      "cell_type": "markdown",
      "source": [
        "#### Initialize Parameters"
      ],
      "metadata": {
        "id": "AMkaUCwsSMgt"
      }
    },
    {
      "cell_type": "code",
      "source": [
        "# initialize_with_zeros\n",
        "def initialize_with_zeros(dim):\n",
        "    \"\"\"\n",
        "    This function creates a vector of zeros of shape (dim, 1) for w and initializes b to 0.\n",
        "    Argument:\n",
        "    dim -- size of the w vector we want (or number of parameters in this case)    \n",
        "    Returns:\n",
        "    w -- initialized vector of shape (dim, 1)\n",
        "    b -- initialized scalar (corresponds to the bias)\n",
        "    \"\"\"\n",
        "    w = np.zeros((dim,1))\n",
        "    b = 0.    \n",
        "    return w, b"
      ],
      "metadata": {
        "id": "Ncs1IzWXSFJt"
      },
      "execution_count": 8,
      "outputs": []
    },
    {
      "cell_type": "markdown",
      "source": [
        "#### Forward and Backward Propagation"
      ],
      "metadata": {
        "id": "5RE6PKCJSKLR"
      }
    },
    {
      "cell_type": "code",
      "source": [
        "# propagate\n",
        "\n",
        "def propagate(w, b, X, Y):\n",
        "    \"\"\"\n",
        "    Implement the cost function and its gradient for the propagation explained above\n",
        "    Arguments:\n",
        "    w -- weights, a numpy array of size which equals the number of features\n",
        "    b -- bias, a scalar\n",
        "    X -- data \n",
        "    Y -- true \"label\" vector (containing 0 and 1) of size (1, number of examples)\n",
        "    Return:\n",
        "    cost -- negative log-likelihood cost for logistic regression\n",
        "    dw -- gradient of the loss with respect to w, thus same shape as w\n",
        "    db -- gradient of the loss with respect to b, thus same shape as b\n",
        "    \"\"\"\n",
        "    m = X.shape[1]\n",
        "    #print('number of objects = ',len(X))\n",
        "    # FORWARD PROPAGATION (FROM X TO COST)\n",
        "    A = sigmoid(np.dot(w.T,X)+b )                                 # compute activation\n",
        "    cost = -(1./m)*np.sum(Y*np.log(A)+(1-Y)*np.log(1-A),axis=1)   # compute cost\n",
        "    # BACKWARD PROPAGATION (TO FIND GRAD)\n",
        "    dw = (1./m)*np.dot(X,(A-Y).T)\n",
        "    db = (1./m)*np.sum(A-Y,axis=1)\n",
        "    grads = {\"dw\": dw,\n",
        "             \"db\": db}\n",
        "    return grads, cost"
      ],
      "metadata": {
        "id": "XzuxcLmvSHrP"
      },
      "execution_count": 9,
      "outputs": []
    },
    {
      "cell_type": "markdown",
      "source": [
        "#### Optimization"
      ],
      "metadata": {
        "id": "PqWb_I-hSYLb"
      }
    },
    {
      "cell_type": "markdown",
      "source": [
        "#### Gradient Descent Algo"
      ],
      "metadata": {
        "id": "i5irWJwjd7Nz"
      }
    },
    {
      "cell_type": "code",
      "source": [
        "# optimize\n",
        "def gd(w, b, X, Y, num_iterations, learning_rate, print_cost = False):\n",
        "    \"\"\"\n",
        "    This function optimizes w and b by running a gradient descent algorithm  \n",
        "    Arguments:\n",
        "    w -- weights, a numpy array \n",
        "    b -- bias, a scalar\n",
        "    X -- data \n",
        "    Y -- true \"label\" vector (containing 0 and 1), of shape (1, number of examples)\n",
        "    num_iterations -- number of iterations of the optimization loop\n",
        "    learning_rate -- learning rate of the gradient descent update rule\n",
        "    print_cost -- True to print the loss every 100 steps\n",
        "    Returns:\n",
        "    params -- dictionary containing the weights w and bias b\n",
        "    grads -- dictionary containing the gradients of the weights and bias with respect to the cost function\n",
        "    costs -- list of all the costs computed during the optimization, this will be used to plot the learning curve.\n",
        "    \"\"\"\n",
        "    costs = []\n",
        "    for i in range(num_iterations):  \n",
        "        # Cost and gradient calculation \n",
        "        grads, cost = propagate(w,b,X,Y)        \n",
        "        # Retrieve derivatives from grads\n",
        "        dw = grads[\"dw\"]\n",
        "        db = grads[\"db\"]\n",
        "        # update rule\n",
        "        w -=learning_rate*dw\n",
        "        b -=learning_rate*db\n",
        "        # Record the costs\n",
        "        if i % 100 == 0:\n",
        "            costs.append(cost)\n",
        "        # Print the cost every 100 training iterations\n",
        "        if print_cost and i % 100 == 0:\n",
        "            print (\"Cost after iteration %i: %f\" %(i, cost))\n",
        "    params = {\"w\": w,\n",
        "              \"b\": b}\n",
        "    grads = {\"dw\": dw,\n",
        "             \"db\": db}\n",
        "    return params, grads, costs"
      ],
      "metadata": {
        "id": "7DmosVD4SSMn"
      },
      "execution_count": 10,
      "outputs": []
    },
    {
      "cell_type": "markdown",
      "source": [
        "#### Stochastic Gradient Descent "
      ],
      "metadata": {
        "id": "KskfLjxfezea"
      }
    },
    {
      "cell_type": "code",
      "source": [
        "def SGD(w, b, X, Y, epoch, learning_rate, print_cost=False):\n",
        "    costs = []\n",
        "    for i in range(epoch):\n",
        "        for j in range(X.shape[1]):\n",
        "            # getting single sample\n",
        "            point_x = X.iloc[:, j]\n",
        "            point_x = point_x.to_numpy()\n",
        "            point_x = point_x.reshape(point_x.shape[0], 1)\n",
        "            point_y = Y[:, j]\n",
        "            #point_y=point_y.to_numpy()\n",
        "            # calculate gradient and cost function\n",
        "            grads, cost = propagate(w, b, point_x, point_y)\n",
        "            dw, db = grads[\"dw\"], grads[\"db\"]\n",
        "            # update\n",
        "            w -= learning_rate * dw\n",
        "            b -= learning_rate * db\n",
        "        _, cost = propagate(w, b, X, Y)\n",
        "        # record the costs\n",
        "        if i % 100 == 0:\n",
        "            costs.append(cost)\n",
        "        # print the cost every 100 training iterations\n",
        "        if print_cost and i % 100 == 0:\n",
        "            print('Cost after iteration %i: %f' % (i, cost))\n",
        "    params = {\"w\": w,\n",
        "                \"b\": b}\n",
        "    grads = {\"dw\": dw,\n",
        "                \"db\": db}\n",
        "    return params, grads, costs"
      ],
      "metadata": {
        "id": "2g4eaMNhSa8-"
      },
      "execution_count": 22,
      "outputs": []
    },
    {
      "cell_type": "markdown",
      "source": [
        "#### Adam"
      ],
      "metadata": {
        "id": "CVhTrCqNe3tE"
      }
    },
    {
      "cell_type": "code",
      "source": [
        "def Adam(w, b, X, Y, epoch, learning_rate, print_cost=False, beta1=0.9, beta2=0.999, constant=1e-8):\n",
        "    costs = []\n",
        "    vdw, vdb = 0, 0     # moment\n",
        "    sdw, sdb = 0, 0     # rmsprop\n",
        "    iter = 1\n",
        "    for e in range(epoch):        \n",
        "        # calculate gradient and cost function\n",
        "        grads, cost = propagate(w, b, X, Y)\n",
        "        dw, db = grads[\"dw\"], grads[\"db\"]\n",
        "        # moment, rmsprop\n",
        "        vdw = (beta1 * vdw) + ((1 - beta1) * dw)\n",
        "        vdb = (beta1 * vdb) + ((1 - beta1) * db)\n",
        "        sdw = (beta2 * sdw) + ((1 - beta2) * (dw ** 2))\n",
        "        sdb = (beta2 * sdb) + ((1 - beta2) * (db ** 2))\n",
        "        # correcting\n",
        "        vdw_corr = vdw / (1 - beta1 ** iter)\n",
        "        vdb_corr = vdb / (1 - beta1 ** iter)\n",
        "        sdw_corr = sdw / (1 - beta2 ** iter)\n",
        "        sdb_corr = sdb / (1 - beta2 ** iter)\n",
        "        # updating weight\n",
        "        w -= learning_rate * vdw_corr / (np.sqrt(sdw_corr) + constant)\n",
        "        b -= learning_rate * vdb_corr / (np.sqrt(sdb_corr) + constant)\n",
        "        # record the cost\n",
        "        if e % 100 == 0:\n",
        "            costs.append(cost)\n",
        "        # print the cost every 100 training iterations\n",
        "        if print_cost and e % 100 == 0:\n",
        "            print (\"Cost after iteration %i: %f\" %(e, cost))\n",
        "        iter += 1\n",
        "    params = {\"w\": w,\n",
        "              \"b\": b}\n",
        "    grads = {\"dw\": dw,\n",
        "             \"db\": db}\n",
        "    return params, grads, costs"
      ],
      "metadata": {
        "id": "ETTYB1aHSeMw"
      },
      "execution_count": 12,
      "outputs": []
    },
    {
      "cell_type": "markdown",
      "source": [
        "### Prediction"
      ],
      "metadata": {
        "id": "VoQGEpLRhszp"
      }
    },
    {
      "cell_type": "code",
      "source": [
        "# predict\n",
        "\n",
        "def predict(w, b, X):\n",
        "    '''\n",
        "    Predict whether the label is 0 or 1 using learned logistic regression parameters (w, b)\n",
        "    \n",
        "    Arguments:\n",
        "    w -- weights, a numpy array \n",
        "    b -- bias, a scalar\n",
        "    X -- data \n",
        "    \n",
        "    Returns:\n",
        "    Y_prediction -- a numpy array (vector) containing all predictions (0/1) for the examples in X\n",
        "    '''\n",
        "    \n",
        "    m = X.shape[1]\n",
        "    Y_prediction = np.zeros((1,m))\n",
        "    w = w.reshape(X.shape[0], 1)\n",
        "    \n",
        "    # Compute vector \"A\" predicting the probabilities \n",
        "    A = sigmoid(np.dot(w.T,X)+b)\n",
        "    \n",
        "    for i in range(A.shape[1]):\n",
        "        \n",
        "        # Convert probabilities A[0,i] to actual predictions p[0,i]\n",
        "        if (A[0,i]<=0.5):\n",
        "            Y_prediction[0][i]=0\n",
        "        else:\n",
        "            Y_prediction[0][i]=1\n",
        "    \n",
        "    return Y_prediction"
      ],
      "metadata": {
        "id": "BAfADE-ZSg3g"
      },
      "execution_count": 13,
      "outputs": []
    },
    {
      "cell_type": "markdown",
      "source": [
        "### Merge into a Model"
      ],
      "metadata": {
        "id": "Wb56TGGxhvvS"
      }
    },
    {
      "cell_type": "code",
      "source": [
        "# model\n",
        "\n",
        "def model(X_train, Y_train, X_test, Y_test, num_iterations=2000, learning_rate=0.5, optimizer='GD', print_cost=False):\n",
        "    \"\"\"\n",
        "    Builds the logistic regression model by calling the function we've implemented previously\n",
        "    \n",
        "    Arguments:\n",
        "    X_train -- training set represented by a numpy array \n",
        "    Y_train -- training labels represented by a numpy array (vector) of shape (1, m_train)\n",
        "    X_test -- test set represented by a numpy array \n",
        "    Y_test -- test labels represented by a numpy array (vector) of shape (1, m_test)\n",
        "    num_iterations -- hyperparameter representing the number of iterations to optimize the parameters\n",
        "    learning_rate -- hyperparameter representing the learning rate used in the update rule of optimize()\n",
        "    print_cost -- Set to true to print the cost every 100 iterations\n",
        "    \n",
        "    Returns:\n",
        "    d -- dictionary containing information about the model.\n",
        "    \"\"\"\n",
        "    \n",
        "    # initialize parameters with zeros \n",
        "    w, b = initialize_with_zeros(X_train.shape[0])\n",
        "\n",
        "    # optimizer\n",
        "    assert optimizer != None\n",
        "    if optimizer == 'GD':\n",
        "        # Gradient descent\n",
        "        parameters, grads, costs = gd(w, b, X_train, Y_train, num_iterations, learning_rate, print_cost)\n",
        "    elif optimizer == 'SGD':\n",
        "        parameters, grads, costs = SGD(w, b, X_train, Y_train, num_iterations, learning_rate, print_cost)\n",
        "    elif optimizer == 'Adam':\n",
        "        parameters, grads, costs = Adam(w, b, X_train, Y_train, num_iterations, learning_rate, print_cost)    \n",
        "    \n",
        "    # Retrieve parameters w and b from dictionary \"parameters\"\n",
        "    w = parameters[\"w\"]\n",
        "    b = parameters[\"b\"]\n",
        "    \n",
        "    # Predict test/train set examples\n",
        "    Y_prediction_test = predict(w, b, X_test)\n",
        "    Y_prediction_train = predict(w, b, X_train)\n",
        "\n",
        "    # Print train/test Errors\n",
        "    print(\"train accuracy: {} %\".format(100 - np.mean(np.abs(Y_prediction_train - Y_train)) * 100))\n",
        "    print(\"test accuracy: {} %\".format(100 - np.mean(np.abs(Y_prediction_test - Y_test)) * 100))\n",
        "\n",
        "    d = {\"costs\": costs,\n",
        "         \"Y_prediction_test\": Y_prediction_test, \n",
        "         \"Y_prediction_train\" : Y_prediction_train, \n",
        "         \"w\" : w, \n",
        "         \"b\" : b,\n",
        "         \"learning_rate\" : learning_rate,\n",
        "         \"num_iterations\": num_iterations}\n",
        "    \n",
        "    return d"
      ],
      "metadata": {
        "id": "Zer6dat2SkjZ"
      },
      "execution_count": 14,
      "outputs": []
    },
    {
      "cell_type": "markdown",
      "source": [
        "### Training"
      ],
      "metadata": {
        "id": "HOQ743p6hyeq"
      }
    },
    {
      "cell_type": "code",
      "source": [
        "# GD\n",
        "d = model(X_train, y_train, X_test, y_test, num_iterations=2000, learning_rate=1e-3, print_cost=True)"
      ],
      "metadata": {
        "colab": {
          "base_uri": "https://localhost:8080/"
        },
        "id": "PmqDyljoSm1D",
        "outputId": "426a5bee-abb0-41ee-efe0-9155da6f017d"
      },
      "execution_count": 15,
      "outputs": [
        {
          "output_type": "stream",
          "name": "stdout",
          "text": [
            "Cost after iteration 0: 0.693147\n",
            "Cost after iteration 100: 0.675014\n",
            "Cost after iteration 200: 0.662408\n",
            "Cost after iteration 300: 0.650764\n",
            "Cost after iteration 400: 0.639754\n",
            "Cost after iteration 500: 0.629295\n",
            "Cost after iteration 600: 0.619330\n",
            "Cost after iteration 700: 0.609815\n",
            "Cost after iteration 800: 0.600708\n",
            "Cost after iteration 900: 0.591977\n",
            "Cost after iteration 1000: 0.583593\n",
            "Cost after iteration 1100: 0.575529\n",
            "Cost after iteration 1200: 0.567764\n",
            "Cost after iteration 1300: 0.560276\n",
            "Cost after iteration 1400: 0.553047\n",
            "Cost after iteration 1500: 0.546062\n",
            "Cost after iteration 1600: 0.539304\n",
            "Cost after iteration 1700: 0.532760\n",
            "Cost after iteration 1800: 0.526418\n",
            "Cost after iteration 1900: 0.520267\n",
            "train accuracy: 88.30430145751866 %\n",
            "test accuracy: 86.67377398720683 %\n"
          ]
        }
      ]
    },
    {
      "cell_type": "code",
      "source": [
        "# SGD\n",
        "d = model(X_train, y_train, X_test, y_test, num_iterations=2000, learning_rate=1e-3, optimizer='SGD', print_cost=True)"
      ],
      "metadata": {
        "colab": {
          "base_uri": "https://localhost:8080/"
        },
        "id": "lDp6nt67SooZ",
        "outputId": "5e050463-2e4e-44bd-b11c-412ca50964f0"
      },
      "execution_count": 23,
      "outputs": [
        {
          "output_type": "stream",
          "name": "stdout",
          "text": [
            "Cost after iteration 0: 0.470134\n",
            "Cost after iteration 100: 0.014614\n",
            "Cost after iteration 200: 0.007256\n",
            "Cost after iteration 300: 0.004819\n",
            "Cost after iteration 400: 0.003606\n",
            "Cost after iteration 500: 0.002880\n",
            "Cost after iteration 600: 0.002398\n",
            "Cost after iteration 700: 0.002054\n",
            "Cost after iteration 800: 0.001796\n",
            "Cost after iteration 900: 0.001595\n",
            "Cost after iteration 1000: 0.001435\n",
            "Cost after iteration 1100: 0.001304\n",
            "Cost after iteration 1200: 0.001195\n",
            "Cost after iteration 1300: 0.001103\n",
            "Cost after iteration 1400: 0.001024\n",
            "Cost after iteration 1500: 0.000956\n",
            "Cost after iteration 1600: 0.000896\n",
            "Cost after iteration 1700: 0.000843\n",
            "Cost after iteration 1800: 0.000796\n",
            "Cost after iteration 1900: 0.000754\n",
            "train accuracy: 100.0 %\n",
            "test accuracy: 100.0 %\n"
          ]
        }
      ]
    },
    {
      "cell_type": "code",
      "source": [
        " # Adam\n",
        "d = model(X_train, y_train, X_test, y_test, num_iterations=2000, learning_rate=1e-3, optimizer='Adam', print_cost=True)"
      ],
      "metadata": {
        "colab": {
          "base_uri": "https://localhost:8080/"
        },
        "id": "ke20_nZjSqyV",
        "outputId": "ceab1d1d-3f00-4fae-9199-1c12fb17810e"
      },
      "execution_count": 17,
      "outputs": [
        {
          "output_type": "stream",
          "name": "stdout",
          "text": [
            "Cost after iteration 0: 0.693147\n",
            "Cost after iteration 100: 0.482086\n",
            "Cost after iteration 200: 0.413108\n",
            "Cost after iteration 300: 0.371327\n",
            "Cost after iteration 400: 0.340881\n",
            "Cost after iteration 500: 0.316638\n",
            "Cost after iteration 600: 0.296339\n",
            "Cost after iteration 700: 0.278799\n",
            "Cost after iteration 800: 0.263315\n",
            "Cost after iteration 900: 0.249436\n",
            "Cost after iteration 1000: 0.236856\n",
            "Cost after iteration 1100: 0.225354\n",
            "Cost after iteration 1200: 0.214764\n",
            "Cost after iteration 1300: 0.204958\n",
            "Cost after iteration 1400: 0.195834\n",
            "Cost after iteration 1500: 0.187310\n",
            "Cost after iteration 1600: 0.179318\n",
            "Cost after iteration 1700: 0.171804\n",
            "Cost after iteration 1800: 0.164719\n",
            "Cost after iteration 1900: 0.158025\n",
            "train accuracy: 97.0494134376111 %\n",
            "test accuracy: 83.68869936034115 %\n"
          ]
        }
      ]
    },
    {
      "cell_type": "markdown",
      "source": [
        "### Comparison among the implemented optimization algorithms"
      ],
      "metadata": {
        "id": "TCv-lc5siBJC"
      }
    },
    {
      "cell_type": "markdown",
      "source": [
        "Comparing using different learning rates: 1e-3, 1e-4, 1e-5, 1e-6, 1e-7"
      ],
      "metadata": {
        "id": "ja1M2AIxiQoX"
      }
    },
    {
      "cell_type": "markdown",
      "source": [
        "#### Learning Rate = 0.001"
      ],
      "metadata": {
        "id": "_kjWQtFWip_d"
      }
    },
    {
      "cell_type": "code",
      "source": [
        "# learning rate\n",
        "learning_rate = 1e-3\n",
        "print('Gradient Descent')\n",
        "gd_1 = model(X_train, y_train, X_test, y_test, num_iterations=2000, learning_rate=learning_rate, print_cost=False)\n",
        "print('************')\n",
        "print('Stochastic Gradient Descent')\n",
        "sgd_1 = model(X_train, y_train, X_test, y_test, num_iterations=2000, learning_rate=learning_rate, optimizer='SGD', print_cost=False)\n",
        "print('************')\n",
        "print('Adam')\n",
        "adam_1 = model(X_train, y_train, X_test, y_test, num_iterations=2000, learning_rate=learning_rate, optimizer='Adam', print_cost=False)"
      ],
      "metadata": {
        "colab": {
          "base_uri": "https://localhost:8080/"
        },
        "id": "5V3A9YMCStUE",
        "outputId": "8da8d254-1e94-433d-da54-69ed8f2135fe"
      },
      "execution_count": 24,
      "outputs": [
        {
          "output_type": "stream",
          "name": "stdout",
          "text": [
            "Gradient Descent\n",
            "train accuracy: 88.30430145751866 %\n",
            "test accuracy: 86.67377398720683 %\n",
            "************\n",
            "Stochastic Gradient Descent\n",
            "train accuracy: 100.0 %\n",
            "test accuracy: 100.0 %\n",
            "************\n",
            "Adam\n",
            "train accuracy: 97.0494134376111 %\n",
            "test accuracy: 83.68869936034115 %\n"
          ]
        }
      ]
    },
    {
      "cell_type": "code",
      "source": [
        "range_iter = np.arange(gd_1['num_iterations'], step=100)\n",
        "plt.figure(figsize=(8,5))\n",
        "plt.plot(range_iter, gd_1['costs'], label='Gradient Descent')\n",
        "plt.plot(range_iter, sgd_1['costs'], label='Stochastic GD')\n",
        "plt.plot(range_iter, adam_1['costs'], label='Adam')\n",
        "plt.xlabel('Epochs')\n",
        "plt.ylabel('Loss')\n",
        "plt.title('Learning rate 0.001 (1e-3)')\n",
        "plt.legend()\n",
        "plt.show()"
      ],
      "metadata": {
        "colab": {
          "base_uri": "https://localhost:8080/",
          "height": 350
        },
        "id": "bR6sEzfdSvoF",
        "outputId": "6bb57b43-c953-4841-e242-c6ed287ead81"
      },
      "execution_count": 25,
      "outputs": [
        {
          "output_type": "display_data",
          "data": {
            "image/png": "[encoded data removed]",
            "text/plain": [
              "<Figure size 576x360 with 1 Axes>"
            ]
          },
          "metadata": {
            "needs_background": "light"
          }
        }
      ]
    },
    {
      "cell_type": "markdown",
      "source": [
        "#### Learning Rate = 0.0001"
      ],
      "metadata": {
        "id": "OJoTadatitvR"
      }
    },
    {
      "cell_type": "code",
      "source": [
        "# learning rate\n",
        "learning_rate = 1e-4\n",
        "print('Gradient Descent')\n",
        "gd_2 = model(X_train, y_train, X_test, y_test, num_iterations=2000, learning_rate=learning_rate, print_cost=False)\n",
        "print('************')\n",
        "print('Stochastic Gradient Descent')\n",
        "sgd_2 = model(X_train, y_train, X_test, y_test, num_iterations=2000, learning_rate=learning_rate, optimizer='SGD', print_cost=False)\n",
        "print('************')\n",
        "print('Adam')\n",
        "adam_2 = model(X_train, y_train, X_test, y_test, num_iterations=2000, learning_rate=learning_rate, optimizer='Adam', print_cost=False)"
      ],
      "metadata": {
        "colab": {
          "base_uri": "https://localhost:8080/"
        },
        "id": "SjoBlGbNSytm",
        "outputId": "c8460cbe-a41f-455e-f3c6-f05e3e0280a8"
      },
      "execution_count": 26,
      "outputs": [
        {
          "output_type": "stream",
          "name": "stdout",
          "text": [
            "Gradient Descent\n",
            "train accuracy: 59.971560611446854 %\n",
            "test accuracy: 63.859275053304906 %\n",
            "************\n",
            "Stochastic Gradient Descent\n",
            "train accuracy: 100.0 %\n",
            "test accuracy: 100.0 %\n",
            "************\n",
            "Adam\n",
            "train accuracy: 83.96729470316389 %\n",
            "test accuracy: 78.14498933901919 %\n"
          ]
        }
      ]
    },
    {
      "cell_type": "code",
      "source": [
        "range_iter = np.arange(gd_2['num_iterations'], step=100)\n",
        "plt.figure(figsize=(8,5))\n",
        "plt.plot(range_iter, gd_2['costs'], label='Gradient Descent')\n",
        "plt.plot(range_iter, sgd_2['costs'], label='Stochastic GD')\n",
        "plt.plot(range_iter, adam_2['costs'], label='Adam')\n",
        "plt.xlabel('Epochs')\n",
        "plt.ylabel('Loss')\n",
        "plt.title('Learning rate 0.0001 (1e-4)')\n",
        "plt.legend()\n",
        "plt.show()"
      ],
      "metadata": {
        "colab": {
          "base_uri": "https://localhost:8080/",
          "height": 350
        },
        "id": "ibOS5eoyS1kd",
        "outputId": "b63d5709-8f14-4a90-8bff-c534d9c0a2d6"
      },
      "execution_count": 28,
      "outputs": [
        {
          "output_type": "display_data",
          "data": {
            "image/png": "[encoded data removed]",
            "text/plain": [
              "<Figure size 576x360 with 1 Axes>"
            ]
          },
          "metadata": {
            "needs_background": "light"
          }
        }
      ]
    },
    {
      "cell_type": "markdown",
      "source": [
        "#### Learning Rate = 0.00001"
      ],
      "metadata": {
        "id": "1k7utubriw4z"
      }
    },
    {
      "cell_type": "code",
      "source": [
        "# learning rate\n",
        "learning_rate = 1e-5\n",
        "print('Gradient Descent')\n",
        "gd_3 = model(X_train, y_train, X_test, y_test, num_iterations=2000, learning_rate=learning_rate, print_cost=False)\n",
        "print('************')\n",
        "print('Stochastic Gradient Descent')\n",
        "sgd_3 = model(X_train, y_train, X_test, y_test, num_iterations=2000, learning_rate=learning_rate, optimizer='SGD', print_cost=False)\n",
        "print('************')\n",
        "print('Adam')\n",
        "adam_3 = model(X_train, y_train, X_test, y_test, num_iterations=2000, learning_rate=learning_rate, optimizer='Adam', print_cost=False)"
      ],
      "metadata": {
        "colab": {
          "base_uri": "https://localhost:8080/"
        },
        "id": "dD0osMP1S4-I",
        "outputId": "be1cc225-7016-41ec-b00a-f2db95562d2a"
      },
      "execution_count": 29,
      "outputs": [
        {
          "output_type": "stream",
          "name": "stdout",
          "text": [
            "Gradient Descent\n",
            "train accuracy: 53.288304301457515 %\n",
            "test accuracy: 57.0362473347548 %\n",
            "************\n",
            "Stochastic Gradient Descent\n",
            "train accuracy: 100.0 %\n",
            "test accuracy: 100.0 %\n",
            "************\n",
            "Adam\n",
            "train accuracy: 71.91610380376821 %\n",
            "test accuracy: 71.32196162046908 %\n"
          ]
        }
      ]
    },
    {
      "cell_type": "code",
      "source": [
        "plt.figure(figsize=(8,5))\n",
        "plt.plot(range_iter, gd_3['costs'], label='Gradient Descent')\n",
        "plt.plot(range_iter, sgd_3['costs'], label='Stochastic GD')\n",
        "plt.plot(range_iter, adam_3['costs'], label='Adam')\n",
        "plt.xlabel('Epochs')\n",
        "plt.ylabel('Loss')\n",
        "plt.title('Learning rate 0.00001 (1e-5)')\n",
        "plt.legend()\n",
        "plt.show()"
      ],
      "metadata": {
        "colab": {
          "base_uri": "https://localhost:8080/",
          "height": 350
        },
        "id": "R2hUCX6gS722",
        "outputId": "5998182f-1303-4eda-ff99-421f2f48bb93"
      },
      "execution_count": 30,
      "outputs": [
        {
          "output_type": "display_data",
          "data": {
            "image/png": "[encoded data removed]",
            "text/plain": [
              "<Figure size 576x360 with 1 Axes>"
            ]
          },
          "metadata": {
            "needs_background": "light"
          }
        }
      ]
    },
    {
      "cell_type": "markdown",
      "source": [
        "#### Learning Rate = 0.000001"
      ],
      "metadata": {
        "id": "jzciENh7izmJ"
      }
    },
    {
      "cell_type": "code",
      "source": [
        "# learning rate\n",
        "learning_rate = 1e-6\n",
        "print('Gradient Descent')\n",
        "gd_4 = model(X_train, y_train, X_test, y_test, num_iterations=2000, learning_rate=learning_rate, print_cost=False)\n",
        "print('************')\n",
        "print('Stochastic Gradient Descent')\n",
        "sgd_4 = model(X_train, y_train, X_test, y_test, num_iterations=2000, learning_rate=learning_rate, optimizer='SGD', print_cost=False)\n",
        "print('************')\n",
        "print('Adam')\n",
        "adam_4 = model(X_train, y_train, X_test, y_test, num_iterations=2000, learning_rate=learning_rate, optimizer='Adam', print_cost=False)"
      ],
      "metadata": {
        "colab": {
          "base_uri": "https://localhost:8080/"
        },
        "id": "MA2Dtci_TAtC",
        "outputId": "7649adb9-7c50-4638-e063-1bb8de74cff4"
      },
      "execution_count": 31,
      "outputs": [
        {
          "output_type": "stream",
          "name": "stdout",
          "text": [
            "Gradient Descent\n",
            "train accuracy: 53.288304301457515 %\n",
            "test accuracy: 57.0362473347548 %\n",
            "************\n",
            "Stochastic Gradient Descent\n",
            "train accuracy: 94.13437611091362 %\n",
            "test accuracy: 92.75053304904051 %\n",
            "************\n",
            "Adam\n",
            "train accuracy: 56.48773551368645 %\n",
            "test accuracy: 60.3411513859275 %\n"
          ]
        }
      ]
    },
    {
      "cell_type": "code",
      "source": [
        "plt.figure(figsize=(8,5))\n",
        "plt.plot(range_iter, gd_4['costs'], label='Gradient Descent')\n",
        "plt.plot(range_iter, sgd_4['costs'], label='Stochastic GD')\n",
        "plt.plot(range_iter, adam_4['costs'], label='Adam')\n",
        "plt.xlabel('Epochs')\n",
        "plt.ylabel('Loss')\n",
        "plt.title('Learning rate 0.000001 (1e-6)')\n",
        "plt.legend()\n",
        "plt.show()"
      ],
      "metadata": {
        "colab": {
          "base_uri": "https://localhost:8080/",
          "height": 350
        },
        "id": "WwcedAlMTCWJ",
        "outputId": "2b360be6-1e02-4cff-8fd8-abb7f7c1a92a"
      },
      "execution_count": 32,
      "outputs": [
        {
          "output_type": "display_data",
          "data": {
            "image/png": "[encoded data removed]",
            "text/plain": [
              "<Figure size 576x360 with 1 Axes>"
            ]
          },
          "metadata": {
            "needs_background": "light"
          }
        }
      ]
    },
    {
      "cell_type": "markdown",
      "source": [
        "#### Learning Rate = 0.0000001"
      ],
      "metadata": {
        "id": "4ndi39GdjnlB"
      }
    },
    {
      "cell_type": "code",
      "source": [
        "# learning rate\n",
        "learning_rate = 1e-7\n",
        "print('Gradient Descent')\n",
        "gd_5 = model(X_train, y_train, X_test, y_test, num_iterations=2000, learning_rate=learning_rate, print_cost=False)\n",
        "print('************')\n",
        "print('Stochastic Gradient Descent')\n",
        "sgd_5 = model(X_train, y_train, X_test, y_test, num_iterations=2000, learning_rate=learning_rate, optimizer='SGD', print_cost=False)\n",
        "print('************')\n",
        "print('Adam')\n",
        "adam_5 = model(X_train, y_train, X_test, y_test, num_iterations=2000, learning_rate=learning_rate, optimizer='Adam', print_cost=False)"
      ],
      "metadata": {
        "colab": {
          "base_uri": "https://localhost:8080/"
        },
        "id": "_cmTn6Fcjo_i",
        "outputId": "c0251ade-9209-4528-edb5-bad08a780aa0"
      },
      "execution_count": 33,
      "outputs": [
        {
          "output_type": "stream",
          "name": "stdout",
          "text": [
            "Gradient Descent\n",
            "train accuracy: 53.288304301457515 %\n",
            "test accuracy: 57.0362473347548 %\n",
            "************\n",
            "Stochastic Gradient Descent\n",
            "train accuracy: 75.29328119445432 %\n",
            "test accuracy: 77.9317697228145 %\n",
            "************\n",
            "Adam\n",
            "train accuracy: 53.288304301457515 %\n",
            "test accuracy: 57.0362473347548 %\n"
          ]
        }
      ]
    },
    {
      "cell_type": "code",
      "source": [
        "plt.figure(figsize=(8,5))\n",
        "plt.plot(range_iter, gd_5['costs'], label='Gradient Descent')\n",
        "plt.plot(range_iter, sgd_5['costs'], label='Stochastic GD')\n",
        "plt.plot(range_iter, adam_5['costs'], label='Adam')\n",
        "plt.xlabel('Epochs')\n",
        "plt.ylabel('Loss')\n",
        "plt.title('Learning rate 0.000001 (1e-6)')\n",
        "plt.legend()\n",
        "plt.show()"
      ],
      "metadata": {
        "colab": {
          "base_uri": "https://localhost:8080/",
          "height": 350
        },
        "id": "YDzsogx9jo8I",
        "outputId": "e56acb82-79e6-436a-da67-be71aed9a6ac"
      },
      "execution_count": 34,
      "outputs": [
        {
          "output_type": "display_data",
          "data": {
            "image/png": "[encoded data removed]",
            "text/plain": [
              "<Figure size 576x360 with 1 Axes>"
            ]
          },
          "metadata": {
            "needs_background": "light"
          }
        }
      ]
    },
    {
      "cell_type": "code",
      "source": [
        ""
      ],
      "metadata": {
        "id": "ipmm_Bfm0EyU"
      },
      "execution_count": null,
      "outputs": []
    }
  ]
}